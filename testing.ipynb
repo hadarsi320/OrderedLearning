{
 "cells": [
  {
   "cell_type": "code",
   "execution_count": 1,
   "metadata": {
    "collapsed": true,
    "pycharm": {
     "name": "#%%\n"
    }
   },
   "outputs": [],
   "source": [
    "import torch\n",
    "import data\n",
    "import torch.optim as optim\n",
    "import torch.nn as nn\n",
    "import matplotlib.pyplot as plt\n",
    "from neural_networks import Autoencoder\n",
    "\n",
    "batch_size = 1000\n",
    "learning_rate = 0.001\n",
    "epochs = 5\n",
    "eps = 1e-2\n",
    "\n",
    "# autoencoder = torch.load('pickles/nested_dropout_autoencoder.pkl')\n",
    "# autoencoder = Autoencoder(3072, 100, apply_nested_dropout=True)\n",
    "# train_dataset, train_loader = data.load_cifar10(batch_size)\n",
    "# optimizer = optim.Adam(autoencoder.parameters(), lr=learning_rate)\n",
    "# loss_function = nn.MSELoss()\n",
    "#\n",
    "# diff = []\n",
    "# for epoch in range(epochs):\n",
    "#     print(f'\\tEpoch {epoch}')\n",
    "#     for i, (batch, _) in enumerate(train_loader):\n",
    "#         if i == 0 or (i+1) % 10 == 0:\n",
    "#             print(f'Batch {i+1}')\n",
    "#         with torch.no_grad():\n",
    "#             pre_reps = autoencoder.get_representation(batch)\n",
    "#\n",
    "#         optimizer.zero_grad()\n",
    "#         loss = loss_function(batch, autoencoder(batch))\n",
    "#         loss.backward()\n",
    "#         optimizer.step()\n",
    "#\n",
    "#         with torch.no_grad():\n",
    "#                 post_reps = autoencoder.get_representation(batch)\n",
    "#\n",
    "#         diff.append(torch.norm(pre_reps[:, 0] - post_reps[:, 0]) / batch_size)\n",
    "#\n",
    "# plt.plot(diff)\n",
    "# plt.yscale('log')\n",
    "# plt.show()"
   ]
  },
  {
   "cell_type": "code",
   "execution_count": 4,
   "outputs": [
    {
     "name": "stdout",
     "output_type": "stream",
     "text": [
      "False\n"
     ]
    },
    {
     "ename": "AttributeError",
     "evalue": "__enter__",
     "output_type": "error",
     "traceback": [
      "\u001B[1;31m---------------------------------------------------------------------------\u001B[0m",
      "\u001B[1;31mAttributeError\u001B[0m                            Traceback (most recent call last)",
      "\u001B[1;32m<ipython-input-4-3a78fa22270b>\u001B[0m in \u001B[0;36m<module>\u001B[1;34m\u001B[0m\n\u001B[0;32m      2\u001B[0m \u001B[0mmodel\u001B[0m\u001B[1;33m.\u001B[0m\u001B[0mtrain\u001B[0m\u001B[1;33m(\u001B[0m\u001B[1;32mFalse\u001B[0m\u001B[1;33m)\u001B[0m\u001B[1;33m\u001B[0m\u001B[1;33m\u001B[0m\u001B[0m\n\u001B[0;32m      3\u001B[0m \u001B[0mprint\u001B[0m\u001B[1;33m(\u001B[0m\u001B[0mmodel\u001B[0m\u001B[1;33m.\u001B[0m\u001B[0mtraining\u001B[0m\u001B[1;33m)\u001B[0m\u001B[1;33m\u001B[0m\u001B[1;33m\u001B[0m\u001B[0m\n\u001B[1;32m----> 4\u001B[1;33m \u001B[1;32mwith\u001B[0m \u001B[0mmodel\u001B[0m\u001B[1;33m.\u001B[0m\u001B[0mtraining\u001B[0m\u001B[1;33m:\u001B[0m\u001B[1;33m\u001B[0m\u001B[1;33m\u001B[0m\u001B[0m\n\u001B[0m\u001B[0;32m      5\u001B[0m     \u001B[0mprint\u001B[0m\u001B[1;33m(\u001B[0m\u001B[0mmodel\u001B[0m\u001B[1;33m.\u001B[0m\u001B[0mtraining\u001B[0m\u001B[1;33m)\u001B[0m\u001B[1;33m\u001B[0m\u001B[1;33m\u001B[0m\u001B[0m\n\u001B[0;32m      6\u001B[0m \u001B[0mprint\u001B[0m\u001B[1;33m(\u001B[0m\u001B[0mmodel\u001B[0m\u001B[1;33m.\u001B[0m\u001B[0mtraining\u001B[0m\u001B[1;33m)\u001B[0m\u001B[1;33m\u001B[0m\u001B[1;33m\u001B[0m\u001B[0m\n",
      "\u001B[1;31mAttributeError\u001B[0m: __enter__"
     ]
    }
   ],
   "source": [
    "model = nn.Linear(100, 10)\n",
    "model.train(False)\n",
    "print(model.training)\n",
    "with model.training:\n",
    "    print(model.training)\n",
    "print(model.training)"
   ],
   "metadata": {
    "collapsed": false,
    "pycharm": {
     "name": "#%%\n"
    }
   }
  }
 ],
 "metadata": {
  "kernelspec": {
   "display_name": "Python 3",
   "language": "python",
   "name": "python3"
  },
  "language_info": {
   "codemirror_mode": {
    "name": "ipython",
    "version": 2
   },
   "file_extension": ".py",
   "mimetype": "text/x-python",
   "name": "python",
   "nbconvert_exporter": "python",
   "pygments_lexer": "ipython2",
   "version": "2.7.6"
  }
 },
 "nbformat": 4,
 "nbformat_minor": 0
}